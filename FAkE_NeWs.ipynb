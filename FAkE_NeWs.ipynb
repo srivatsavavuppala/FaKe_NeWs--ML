{
 "cells": [
  {
   "cell_type": "code",
   "execution_count": 5,
   "id": "2879d98f",
   "metadata": {},
   "outputs": [],
   "source": [
    "#IMPORTING ESSENTIAL LIBRARIES\n",
    "import numpy as np\n",
    "import pandas as pd\n",
    "import itertools\n",
    "from sklearn.model_selection import train_test_split\n",
    "from sklearn.feature_extraction.text import TfidfVectorizer\n",
    "from sklearn.linear_model import PassiveAggressiveClassifier\n",
    "from sklearn.metrics import accuracy_score, confusion_matrix\n",
    "from sklearn.metrics import ConfusionMatrixDisplay\n",
    "from sklearn.metrics import plot_confusion_matrix\n",
    "from sklearn.metrics import confusion_matrix\n",
    "from sklearn.datasets import make_classification"
   ]
  },
  {
   "cell_type": "code",
   "execution_count": 8,
   "id": "2723e54b",
   "metadata": {},
   "outputs": [
    {
     "data": {
      "text/html": [
       "<div>\n",
       "<style scoped>\n",
       "    .dataframe tbody tr th:only-of-type {\n",
       "        vertical-align: middle;\n",
       "    }\n",
       "\n",
       "    .dataframe tbody tr th {\n",
       "        vertical-align: top;\n",
       "    }\n",
       "\n",
       "    .dataframe thead th {\n",
       "        text-align: right;\n",
       "    }\n",
       "</style>\n",
       "<table border=\"1\" class=\"dataframe\">\n",
       "  <thead>\n",
       "    <tr style=\"text-align: right;\">\n",
       "      <th></th>\n",
       "      <th>Unnamed: 0</th>\n",
       "      <th>title</th>\n",
       "      <th>text</th>\n",
       "      <th>label</th>\n",
       "    </tr>\n",
       "  </thead>\n",
       "  <tbody>\n",
       "    <tr>\n",
       "      <th>0</th>\n",
       "      <td>8476</td>\n",
       "      <td>You Can Smell Hillary’s Fear</td>\n",
       "      <td>Daniel Greenfield, a Shillman Journalism Fello...</td>\n",
       "      <td>FAKE</td>\n",
       "    </tr>\n",
       "    <tr>\n",
       "      <th>1</th>\n",
       "      <td>10294</td>\n",
       "      <td>Watch The Exact Moment Paul Ryan Committed Pol...</td>\n",
       "      <td>Google Pinterest Digg Linkedin Reddit Stumbleu...</td>\n",
       "      <td>FAKE</td>\n",
       "    </tr>\n",
       "    <tr>\n",
       "      <th>2</th>\n",
       "      <td>3608</td>\n",
       "      <td>Kerry to go to Paris in gesture of sympathy</td>\n",
       "      <td>U.S. Secretary of State John F. Kerry said Mon...</td>\n",
       "      <td>REAL</td>\n",
       "    </tr>\n",
       "    <tr>\n",
       "      <th>3</th>\n",
       "      <td>10142</td>\n",
       "      <td>Bernie supporters on Twitter erupt in anger ag...</td>\n",
       "      <td>— Kaydee King (@KaydeeKing) November 9, 2016 T...</td>\n",
       "      <td>FAKE</td>\n",
       "    </tr>\n",
       "    <tr>\n",
       "      <th>4</th>\n",
       "      <td>875</td>\n",
       "      <td>The Battle of New York: Why This Primary Matters</td>\n",
       "      <td>It's primary day in New York and front-runners...</td>\n",
       "      <td>REAL</td>\n",
       "    </tr>\n",
       "  </tbody>\n",
       "</table>\n",
       "</div>"
      ],
      "text/plain": [
       "   Unnamed: 0                                              title  \\\n",
       "0        8476                       You Can Smell Hillary’s Fear   \n",
       "1       10294  Watch The Exact Moment Paul Ryan Committed Pol...   \n",
       "2        3608        Kerry to go to Paris in gesture of sympathy   \n",
       "3       10142  Bernie supporters on Twitter erupt in anger ag...   \n",
       "4         875   The Battle of New York: Why This Primary Matters   \n",
       "\n",
       "                                                text label  \n",
       "0  Daniel Greenfield, a Shillman Journalism Fello...  FAKE  \n",
       "1  Google Pinterest Digg Linkedin Reddit Stumbleu...  FAKE  \n",
       "2  U.S. Secretary of State John F. Kerry said Mon...  REAL  \n",
       "3  — Kaydee King (@KaydeeKing) November 9, 2016 T...  FAKE  \n",
       "4  It's primary day in New York and front-runners...  REAL  "
      ]
     },
     "execution_count": 8,
     "metadata": {},
     "output_type": "execute_result"
    }
   ],
   "source": [
    "#Read the data\n",
    "first = pd.read_csv('C:\\\\Users\\\\sriva\\\\Desktop\\\\FaKe_NeWs--ML\\\\FaKe_NeWs--ML-master\\\\news\\\\news.csv')\n",
    "second = pd.read_csv('C:\\\\Users\\\\sriva\\\\Desktop\\\\FaKe_NeWs--ML\\\\FaKe_NeWs--ML-master\\\\news\\\\fake_news_manual.csv')\n",
    "toi_news = pd.read_csv('C:\\\\Users\\\\sriva\\\\Desktop\\\\FaKe_NeWs--ML\\\\FaKe_NeWs--ML-master\\\\news\\\\toi_news.csv')\n",
    "the_hindu = pd.read_csv('C:\\\\Users\\\\sriva\\\\Desktop\\\\FaKe_NeWs--ML\\\\FaKe_NeWs--ML-master\\\\news\\\\the_hindu_news.csv')\n",
    "#Get head\n",
    "df = pd.concat([first, second, toi_news, the_hindu])\n",
    "df.shape\n",
    "df.head()"
   ]
  },
  {
   "cell_type": "code",
   "execution_count": 9,
   "id": "e94bd6b4",
   "metadata": {},
   "outputs": [
    {
     "data": {
      "text/plain": [
       "(14083, 4)"
      ]
     },
     "execution_count": 9,
     "metadata": {},
     "output_type": "execute_result"
    }
   ],
   "source": [
    "#Get Shape-DataFrame stores the number of rows and columns as a tuple\n",
    "df.shape"
   ]
  },
  {
   "cell_type": "code",
   "execution_count": 10,
   "id": "18fa4ae4",
   "metadata": {},
   "outputs": [
    {
     "data": {
      "text/plain": [
       "0    FAKE\n",
       "1    FAKE\n",
       "2    REAL\n",
       "3    FAKE\n",
       "4    REAL\n",
       "Name: label, dtype: object"
      ]
     },
     "execution_count": 10,
     "metadata": {},
     "output_type": "execute_result"
    }
   ],
   "source": [
    "#DataFlair - Get the labels\n",
    "labels=df['label']\n",
    "labels.head()"
   ]
  },
  {
   "cell_type": "markdown",
   "id": "4fd8db4e",
   "metadata": {},
   "source": [
    "# Training the Data Sets & Calculating using TF-IDF & Naive Bayes classifier "
   ]
  },
  {
   "cell_type": "code",
   "execution_count": 11,
   "id": "06eb88ee",
   "metadata": {},
   "outputs": [],
   "source": [
    "title = df['title']"
   ]
  },
  {
   "cell_type": "code",
   "execution_count": 12,
   "id": "5e912d19",
   "metadata": {},
   "outputs": [],
   "source": [
    "# Instantiate the CountVectorizer method\n",
    "from sklearn.feature_extraction.text import CountVectorizer\n",
    "count_vector = CountVectorizer(ngram_range=(1,5))"
   ]
  },
  {
   "cell_type": "code",
   "execution_count": 13,
   "id": "b116b896",
   "metadata": {},
   "outputs": [],
   "source": [
    "#DataFlair--Seperate the data into traning and testing \n",
    "from sklearn.model_selection import train_test_split\n",
    "x_train,x_test,y_train,y_test=train_test_split(title, labels, test_size=0.2, random_state=7)"
   ]
  },
  {
   "cell_type": "code",
   "execution_count": 14,
   "id": "b85aca7e",
   "metadata": {},
   "outputs": [],
   "source": [
    "# Fit the training data and then return the matrix\n",
    "training_data = count_vector.fit_transform(x_train)\n",
    "\n",
    "# Transform testing data and return the matrix. Note we are not fitting the testing data into the CountVectorizer()\n",
    "testing_data = count_vector.transform(x_test)\n",
    "\n",
    "#print(training_data)-testing the datasets\n",
    "#print(testing_data)-testing the datasets"
   ]
  },
  {
   "cell_type": "code",
   "execution_count": 15,
   "id": "dd299ef8",
   "metadata": {},
   "outputs": [
    {
     "data": {
      "text/plain": [
       "MultinomialNB()"
      ]
     },
     "execution_count": 15,
     "metadata": {},
     "output_type": "execute_result"
    }
   ],
   "source": [
    "# Make model and fit it\n",
    "from sklearn.naive_bayes import MultinomialNB\n",
    "naive_bayes = MultinomialNB()\n",
    "naive_bayes.fit(training_data, y_train)"
   ]
  },
  {
   "cell_type": "code",
   "execution_count": 16,
   "id": "3a9cb06b",
   "metadata": {},
   "outputs": [
    {
     "data": {
      "text/plain": [
       "array(['REAL', 'FAKE', 'FAKE', ..., 'FAKE', 'REAL', 'REAL'], dtype='<U4')"
      ]
     },
     "execution_count": 16,
     "metadata": {},
     "output_type": "execute_result"
    }
   ],
   "source": [
    "predictions = naive_bayes.predict(testing_data)\n",
    "predictions\n",
    "#Printing The Predictions"
   ]
  },
  {
   "cell_type": "code",
   "execution_count": 17,
   "id": "b5c1e16b",
   "metadata": {},
   "outputs": [
    {
     "name": "stdout",
     "output_type": "stream",
     "text": [
      "Accuracy score:  0.873269435569755\n",
      "Precision score:  0.8469773299748111\n",
      "Recall score:  0.9218642906100069\n",
      "F1 score:  0.8828355759763703\n"
     ]
    }
   ],
   "source": [
    "from sklearn.metrics import accuracy_score, precision_score, recall_score, f1_score, roc_auc_score\n",
    "print('Accuracy score: ', format(accuracy_score(y_test, predictions)))\n",
    "print('Precision score: ', format(precision_score(y_test, predictions, average=\"binary\", pos_label=\"REAL\")))\n",
    "print('Recall score: ', format(recall_score(y_test, predictions, average=\"binary\", pos_label=\"REAL\")))\n",
    "print('F1 score: ', format(f1_score(y_test, predictions, average=\"binary\", pos_label=\"REAL\")))"
   ]
  },
  {
   "cell_type": "markdown",
   "id": "52d071f3",
   "metadata": {},
   "source": [
    "# TexT implementation"
   ]
  },
  {
   "cell_type": "code",
   "execution_count": 18,
   "id": "e1a026e6",
   "metadata": {},
   "outputs": [],
   "source": [
    "text = df['text']"
   ]
  },
  {
   "cell_type": "code",
   "execution_count": 19,
   "id": "fbb27efe",
   "metadata": {},
   "outputs": [],
   "source": [
    "from sklearn.feature_extraction.text import CountVectorizer\n",
    "count_vector = CountVectorizer(ngram_range=(1,5))\n",
    "\n",
    "# Seperate the data into traning and testing \n",
    "from sklearn.model_selection import train_test_split\n",
    "x_train_text,x_test_text,y_train_text,y_test_text=train_test_split(text, labels, test_size=0.2, random_state=7)"
   ]
  },
  {
   "cell_type": "code",
   "execution_count": 20,
   "id": "f8f0c537",
   "metadata": {},
   "outputs": [],
   "source": [
    "# Fit the training data and then return the matrix\n",
    "training_data_text = count_vector.fit_transform(x_train_text)\n",
    "# Transform testing data and return the matrix. Note we are not fitting the testing data into the CountVectorizer()\n",
    "testing_data_text = count_vector.transform(x_test_text)"
   ]
  },
  {
   "cell_type": "code",
   "execution_count": 21,
   "id": "f1a3de09",
   "metadata": {},
   "outputs": [
    {
     "data": {
      "text/plain": [
       "MultinomialNB()"
      ]
     },
     "execution_count": 21,
     "metadata": {},
     "output_type": "execute_result"
    }
   ],
   "source": [
    "from sklearn.naive_bayes import MultinomialNB\n",
    "naive_bayes = MultinomialNB()\n",
    "naive_bayes.fit(training_data_text, y_train_text)"
   ]
  },
  {
   "cell_type": "code",
   "execution_count": 22,
   "id": "0d261670",
   "metadata": {},
   "outputs": [
    {
     "data": {
      "text/plain": [
       "array(['REAL', 'FAKE', 'FAKE', ..., 'REAL', 'REAL', 'REAL'], dtype='<U4')"
      ]
     },
     "execution_count": 22,
     "metadata": {},
     "output_type": "execute_result"
    }
   ],
   "source": [
    "predictions_text = naive_bayes.predict(testing_data_text)\n",
    "predictions_text"
   ]
  },
  {
   "cell_type": "code",
   "execution_count": 23,
   "id": "80863181",
   "metadata": {},
   "outputs": [
    {
     "name": "stdout",
     "output_type": "stream",
     "text": [
      "Accuracy score:  0.9059282925097621\n",
      "Precision score:  0.8807397959183674\n",
      "Recall score:  0.9465387251542152\n",
      "F1 score:  0.9124545754872811\n"
     ]
    }
   ],
   "source": [
    "from sklearn.metrics import accuracy_score, precision_score, recall_score, f1_score, roc_auc_score\n",
    "print('Accuracy score: ', format(accuracy_score(y_test_text, predictions_text)))\n",
    "print('Precision score: ', format(precision_score(y_test_text, predictions_text, average=\"binary\", pos_label=\"REAL\")))\n",
    "print('Recall score: ', format(recall_score(y_test_text, predictions_text, average=\"binary\", pos_label=\"REAL\")))\n",
    "print('F1 score: ', format(f1_score(y_test_text, predictions_text, average=\"binary\", pos_label=\"REAL\")))"
   ]
  },
  {
   "cell_type": "markdown",
   "id": "4d13c38c",
   "metadata": {},
   "source": [
    "# Creating and Plotting Confusion Matrix"
   ]
  },
  {
   "cell_type": "code",
   "execution_count": 24,
   "id": "fdea83c3",
   "metadata": {},
   "outputs": [],
   "source": [
    "from sklearn.datasets import make_classification\n",
    "from sklearn.metrics import plot_confusion_matrix\n",
    "from sklearn.neighbors import KNeighborsClassifier as KNN\n",
    "import seaborn as sns # visualization\n",
    "import matplotlib.pyplot as plt # visualization"
   ]
  },
  {
   "cell_type": "code",
   "execution_count": 25,
   "id": "e41e71ef",
   "metadata": {},
   "outputs": [],
   "source": [
    "#DataFlair - Initialize a TfidfVectorizer\n",
    "tfidf_vectorizer=TfidfVectorizer(stop_words='english', max_df=0.7)\n",
    "\n",
    "#DataFlair - Fit and transform train set, transform test set\n",
    "tfidf_train=tfidf_vectorizer.fit_transform(x_train) \n",
    "tfidf_test=tfidf_vectorizer.transform(x_test)"
   ]
  },
  {
   "cell_type": "code",
   "execution_count": 27,
   "id": "27124203",
   "metadata": {},
   "outputs": [
    {
     "name": "stdout",
     "output_type": "stream",
     "text": [
      "Accuracy: 84.98%\n"
     ]
    }
   ],
   "source": [
    "#DataFlair - Initialize a PassiveAggressiveClassifier\n",
    "pac=PassiveAggressiveClassifier(max_iter=50)\n",
    "pac.fit(tfidf_train,y_train)\n",
    "\n",
    "#DataFlair - Predict on the test set and calculate accuracy\n",
    "y_pred=pac.predict(tfidf_test)\n",
    "score=accuracy_score(y_test,y_pred)\n",
    "print(f'Accuracy: {round(score*100,2)}%')"
   ]
  },
  {
   "cell_type": "code",
   "execution_count": 28,
   "id": "b4af6df6",
   "metadata": {},
   "outputs": [
    {
     "name": "stdout",
     "output_type": "stream",
     "text": [
      "***__Confusion Matrix is Printed Below__:***\n"
     ]
    },
    {
     "data": {
      "text/plain": [
       "array([[1118,  240],\n",
       "       [ 183, 1276]], dtype=int64)"
      ]
     },
     "execution_count": 28,
     "metadata": {},
     "output_type": "execute_result"
    }
   ],
   "source": [
    "#DataFlair - Build confusion matrix\n",
    "print(\"***__Confusion Matrix is Printed Below__:***\")\n",
    "confusion_matrix(y_test,y_pred, labels=['FAKE','REAL'])\n"
   ]
  },
  {
   "cell_type": "code",
   "execution_count": 29,
   "id": "c6128ddb",
   "metadata": {},
   "outputs": [],
   "source": [
    "# # Cofusion Matrix for text\n",
    "# tnt, fpt, fnt, tpt = confusion_matrix(y_test_text, predictions_text).ravel()\n",
    "# (tnt, fpt, fnt, tpt)"
   ]
  },
  {
   "cell_type": "code",
   "execution_count": 30,
   "id": "6f6a066f",
   "metadata": {},
   "outputs": [],
   "source": [
    "def generate_confusion_matrix(y_test, y_pred):\n",
    "    \"\"\"Generate a confusion matrix based on a seaborn heatmap.\"\"\"\n",
    "    cm = confusion_matrix(y_test,y_pred)\n",
    "    # visualize confusion matrix with seaborn heatmap\n",
    "    cm_matrix = pd.DataFrame(data=cm, columns=['Actual Positive:1',\n",
    "                                               'Actual Negative:0'],\n",
    "                            index=['Predict Positive:1', 'Predict Negative:0'])\n",
    "    fig, ax = plt.subplots(figsize=(7,7))  \n",
    "    return sns.heatmap(cm_matrix, annot=True, fmt='d', cmap='YlGnBu');"
   ]
  },
  {
   "cell_type": "code",
   "execution_count": 31,
   "id": "a7b2fd34",
   "metadata": {},
   "outputs": [
    {
     "data": {
      "image/png": "[encoded data removed]",
      "text/plain": [
       "<Figure size 504x504 with 2 Axes>"
      ]
     },
     "metadata": {
      "needs_background": "light"
     },
     "output_type": "display_data"
    }
   ],
   "source": [
    "generate_confusion_matrix(y_test=y_test, y_pred=y_pred);"
   ]
  },
  {
   "cell_type": "markdown",
   "id": "734f9307",
   "metadata": {},
   "source": [
    "# Final Detection~Manually"
   ]
  },
  {
   "cell_type": "code",
   "execution_count": 32,
   "id": "0a81c827",
   "metadata": {},
   "outputs": [],
   "source": [
    "title = df['title']\n",
    "text = df['text']"
   ]
  },
  {
   "cell_type": "code",
   "execution_count": 33,
   "id": "47563e0c",
   "metadata": {},
   "outputs": [],
   "source": [
    "# Instantiate the CountVectorizer method\n",
    "from sklearn.feature_extraction.text import CountVectorizer\n",
    "count_vector = CountVectorizer(ngram_range=(1,1))\n",
    "count_vector_text = CountVectorizer(ngram_range=(1,1))"
   ]
  },
  {
   "cell_type": "code",
   "execution_count": 34,
   "id": "7008e99c",
   "metadata": {},
   "outputs": [],
   "source": [
    "# Seperate the data into traning and testing \n",
    "from sklearn.model_selection import train_test_split\n",
    "x_train,x_test,y_train,y_test=train_test_split(title, labels, test_size=0.2, random_state=7)\n",
    "x_train_text,x_test_text,y_train_text,y_test_text=train_test_split(text, labels, test_size=0.2, random_state=7)\n"
   ]
  },
  {
   "cell_type": "code",
   "execution_count": 35,
   "id": "74942645",
   "metadata": {},
   "outputs": [],
   "source": [
    "# Fit the training data and then return the matrix\n",
    "training_data = count_vector.fit_transform(x_train)\n",
    "training_data_text = count_vector_text.fit_transform(x_train_text)"
   ]
  },
  {
   "cell_type": "markdown",
   "id": "971f2c3e",
   "metadata": {},
   "source": [
    "# Checking The Fake One's"
   ]
  },
  {
   "cell_type": "code",
   "execution_count": 36,
   "id": "48a0a757",
   "metadata": {},
   "outputs": [],
   "source": [
    "input_news = \"\"\"\n",
    "A viral image falsely claims that drinking a 'corona kashayam' made by boiling turmeric, cloves, lemons, and ginger with water will cure COVID-19 positive patients. #BOOMFactCheck #COVID19 #CoronaVirusFacts\n",
    "\"\"\""
   ]
  },
  {
   "cell_type": "code",
   "execution_count": 37,
   "id": "824dd1fd",
   "metadata": {},
   "outputs": [
    {
     "name": "stdout",
     "output_type": "stream",
     "text": [
      "['FAKE']\n",
      "['FAKE']\n"
     ]
    }
   ],
   "source": [
    "testing_data = count_vector.transform([input_news])\n",
    "testing_data_text = count_vector.transform([input_news])\n",
    "\n",
    "# Making the model and fit it\n",
    "from sklearn.naive_bayes import MultinomialNB\n",
    "naive_bayes = MultinomialNB()\n",
    "naive_bayes_text = MultinomialNB()\n",
    "\n",
    "# Fitting the model\n",
    "naive_bayes.fit(training_data, y_train)\n",
    "naive_bayes_text.fit(training_data_text, y_train_text)\n",
    "\n",
    "# Predicting\n",
    "predictions = naive_bayes.predict(testing_data)\n",
    "print(predictions)\n",
    "predictions_text = naive_bayes.predict(testing_data_text)\n",
    "print(predictions_text)"
   ]
  },
  {
   "cell_type": "markdown",
   "id": "183390fd",
   "metadata": {},
   "source": [
    "# Checking the True News"
   ]
  },
  {
   "cell_type": "code",
   "execution_count": 38,
   "id": "7ca88c81",
   "metadata": {},
   "outputs": [],
   "source": [
    "input_news = \"\"\"\n",
    "An ultra-light airplane collided on October 10 with another small plane, killing five people as the two aircraft fell into gardens around a small town in #France\"\"\""
   ]
  },
  {
   "cell_type": "code",
   "execution_count": 39,
   "id": "6f3a8182",
   "metadata": {},
   "outputs": [
    {
     "name": "stdout",
     "output_type": "stream",
     "text": [
      "['REAL']\n",
      "['REAL']\n"
     ]
    }
   ],
   "source": [
    "testing_data = count_vector.transform([input_news])\n",
    "testing_data_text = count_vector.transform([input_news])\n",
    "\n",
    "# Making the model and fit it\n",
    "from sklearn.naive_bayes import MultinomialNB\n",
    "naive_bayes = MultinomialNB()\n",
    "naive_bayes_text = MultinomialNB()\n",
    "\n",
    "# Fitting the model\n",
    "naive_bayes.fit(training_data, y_train)\n",
    "naive_bayes_text.fit(training_data_text, y_train_text)\n",
    "\n",
    "# Predicting\n",
    "predictions = naive_bayes.predict(testing_data)\n",
    "print(predictions)\n",
    "predictions_text = naive_bayes.predict(testing_data_text)\n",
    "print(predictions_text)"
   ]
  },
  {
   "cell_type": "code",
   "execution_count": null,
   "id": "d65f42f9",
   "metadata": {},
   "outputs": [],
   "source": []
  }
 ],
 "metadata": {
  "kernelspec": {
   "display_name": "Python 3 (ipykernel)",
   "language": "python",
   "name": "python3"
  },
  "language_info": {
   "codemirror_mode": {
    "name": "ipython",
    "version": 3
   },
   "file_extension": ".py",
   "mimetype": "text/x-python",
   "name": "python",
   "nbconvert_exporter": "python",
   "pygments_lexer": "ipython3",
   "version": "3.8.5"
  }
 },
 "nbformat": 4,
 "nbformat_minor": 5
}
